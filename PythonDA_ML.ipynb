{
 "cells": [
  {
   "cell_type": "markdown",
   "metadata": {
    "toc": true
   },
   "source": [
    "<h1>Table of Contents<span class=\"tocSkip\"></span></h1>\n",
    "<div class=\"toc\"><ul class=\"toc-item\"><li><span><a href=\"#Data-Analysis-and-Machine-Learning-with-Python\" data-toc-modified-id=\"Data-Analysis-and-Machine-Learning-with-Python-1\"><span class=\"toc-item-num\">1&nbsp;&nbsp;</span>Data Analysis and Machine Learning with Python</a></span><ul class=\"toc-item\"><li><span><a href=\"#Content\" data-toc-modified-id=\"Content-1.1\"><span class=\"toc-item-num\">1.1&nbsp;&nbsp;</span>Content</a></span></li><li><span><a href=\"#Bachelor/Master-Qualification\" data-toc-modified-id=\"Bachelor/Master-Qualification-1.2\"><span class=\"toc-item-num\">1.2&nbsp;&nbsp;</span>Bachelor/Master Qualification</a></span></li><li><span><a href=\"#Course-organization-and-outline\" data-toc-modified-id=\"Course-organization-and-outline-1.3\"><span class=\"toc-item-num\">1.3&nbsp;&nbsp;</span>Course organization and outline</a></span></li><li><span><a href=\"#References\" data-toc-modified-id=\"References-1.4\"><span class=\"toc-item-num\">1.4&nbsp;&nbsp;</span>References</a></span><ul class=\"toc-item\"><li><span><a href=\"#Books\" data-toc-modified-id=\"Books-1.4.1\"><span class=\"toc-item-num\">1.4.1&nbsp;&nbsp;</span>Books</a></span></li><li><span><a href=\"#Theoretical-background-and-advance-material\" data-toc-modified-id=\"Theoretical-background-and-advance-material-1.4.2\"><span class=\"toc-item-num\">1.4.2&nbsp;&nbsp;</span>Theoretical background and advance material</a></span></li><li><span><a href=\"#Online-info\" data-toc-modified-id=\"Online-info-1.4.3\"><span class=\"toc-item-num\">1.4.3&nbsp;&nbsp;</span>Online info</a></span></li></ul></li><li><span><a href=\"#Python-setup\" data-toc-modified-id=\"Python-setup-1.5\"><span class=\"toc-item-num\">1.5&nbsp;&nbsp;</span>Python setup</a></span></li><li><span><a href=\"#Private-installation\" data-toc-modified-id=\"Private-installation-1.6\"><span class=\"toc-item-num\">1.6&nbsp;&nbsp;</span>Private installation</a></span></li></ul></li></ul></div>"
   ]
  },
  {
   "cell_type": "markdown",
   "metadata": {},
   "source": [
    "# Data Analysis and Machine Learning with Python\n",
    "\n",
    "**Günter Duckeck, Alexander Mann, Nikolai Hartmann**\n",
    "\n",
    "**5 days, Sep 05  - Sep 11, 2019, 10:00-12:00 / 13:30-16:00**\n",
    "\n",
    "\n",
    " All course material  on Github:  \n",
    "\n",
    "**https://github.com/fuenfundachtzig/LMU_DA_ML_19Adv**\n",
    "\n",
    "Download with\n",
    "\n",
    "```git clone https://github.com/fuenfundachtzig/LMU_DA_ML_19Adv```\n",
    "\n",
    "This will create a copy of this repository in directory ```LMU_DA_ML_19Adv``` .\n",
    "\n",
    "**Please note that not all material final yet, some changes/updates might happen during the course**\n",
    "\n",
    "If you later update the material you might get conflicts since you modified some of the notebooks. One way to resolve this (in your directory):\n",
    "\n",
    "```git stash```\n",
    "(This will move modified files in separate git branch)\n",
    "\n",
    "```git pull```\n",
    "(Updates your copy of the repository)\n",
    "\n",
    "\n",
    "\n"
   ]
  },
  {
   "cell_type": "markdown",
   "metadata": {},
   "source": [
    "## Content\n",
    "* Introduction\n",
    "  * Organizational issues\n",
    "  * [References](#References)\n",
    "  * [Python setup](#Python-setup)\n",
    "  * [jupyter notebooks](nb_intro.ipynb)\n",
    "  * Python introduction: [Link to material Software Handwerkszeug Course](http://www-static.etp.physik.uni-muenchen.de/kurs/Computing/sw/node19.html)\n",
    "* Scientific Python:\n",
    "  * [Numpy](NumpyIntro.ipynb)\n",
    "  * [Matplotlib](MatplotlibIntro.ipynb)\n",
    "  * [Pandas - data analysis with Python](PandasIntro.ipynb)\n",
    "  * [Exercises](ScipyPandasExercises.ipynb)\n",
    "* Machine learning\n",
    "  * [Basic concepts](MLIntro.ipynb)\n",
    "  * Introductory example - [Nearest neighbours](knnExample.ipynb)\n",
    "  * [Scikit-learn Overview](ScilearnIntro.ipynb)\n",
    "  * [Testing, validating, Overtraining](ScilearnValidation.ipynb)\n",
    "  * [Decision Trees](DecisionTrees.ipynb)\n",
    "  * [Rescaling data](DataRescaling.ipynb)\n",
    "  * [Exercises](MLExercises.ipynb)\n",
    "\n",
    "* ML example from particle physics analysis\n",
    "  * [Kaggle Higgs Challenge - Part 1](HiggsChallenge.ipynb)\n",
    "    * [Imputation](Higgs-Gaussian.ipynb)\n",
    "* Neural Networks\n",
    "  * [Neural Nets Introduction](NN_Activation.ipynb)\n",
    "  * [Neural Nets from Scratch](NN_from_scratch_digits.ipynb)\n",
    "  * [Kaggle Higgs Challenge - Part 2: Neural Nets](HiggsChallenge-NN.ipynb)\n",
    "  * [Kaggle Higgs Challenge - Part 3: Keras Deep Learning example](HiggsChallenge-NN_DL.ipynb)\n",
    "* Advanced ML\n",
    "  * [Neural Nets from Scratch - revisited](NNFromScratchNumpy.ipynb)\n",
    "  * ML packages\n",
    "    * [Tensorflow](TensorFlowIntro.ipynb)\n",
    "    * [Keras](KerasIntro.ipynb)\n",
    "  * CNN (Convoluted Neural Nets)\n",
    "    * [CNNIntro](CNNIntro.ipynb)\n",
    "    * [CNN - particle physics example](CNNTopTagging.ipynb)\n",
    "\n",
    "***"
   ]
  },
  {
   "cell_type": "markdown",
   "metadata": {},
   "source": [
    "## Bachelor/Master Qualification\n",
    "\n",
    "* Course can get accounted as \"Schlüsselqualifikation\", i.e.\n",
    "  * 1-week block course is equivalent to SQ 1+2 or 3 ECTS points.\n",
    "* For successful participation you need to pass a written examination on last day of course (Wed afternoon).\n",
    "  We'll hand out certificates (Scheinformulare) during examination, please fill and hand in.\n",
    "* After checking the examination we will send the certificates for those who passed to the Prüfungsamt, where you can pick them up. Might take until October.\n"
   ]
  },
  {
   "cell_type": "raw",
   "metadata": {},
   "source": []
  },
  {
   "cell_type": "markdown",
   "metadata": {},
   "source": [
    "## Course organization and outline\n",
    "\n",
    "The course is meant to present an overview on various modern techniques for machine learning based on Python packages.\n",
    "\n",
    "* It is assumed that you have basic programming knowledge in general and experience in Python in particular. \n",
    "\n",
    "  * Specifically you should be familiar with the scientific computing packages **Numpy, Matplotlib and Pandas** \n",
    "    * We will provide a very brief re-cap of these packages at the start\n",
    "\n",
    "* In addition, some basic background knowledge in physics, mathematics and statistics is assumed.\n",
    "\n",
    "The course will present a tutorial-style presentation of the subject\n",
    "* all material as **jupyter notebooks**\n",
    "* it is your choice if you prefer to execute notebooks in parallel or if you focus on presentation and execute it afterwards\n",
    "* there should be plenty of time for your own testing and exercises\n",
    "\n",
    "\n",
    "No detailed discussion of theoretical background of statistics and machine learning, it is more meant as practical, hands-on course.  \n",
    "\n",
    "Goals:\n",
    "* basic statistics and visualization techniques\n",
    "* introduction to machine learning:\n",
    "  * Overview on models, training, validation\n",
    "* Neural networks and deep learning\n",
    "* Standard packages for ML: scikit-learn, keras and tensorflow\n",
    "***  \n",
    "  \n",
    "**Schedule**  \n",
    "\n",
    "**10 blocks** of 2-2.5 hours each:\n",
    "* Thu morning: Recap Python, Numpy, Matplotlib, Pandas\n",
    "* Thu afternoon & Fri: ML Overview\n",
    "* Mon & Tue morning: ML showcase from (particle) physics and NN part I \n",
    "* Tue afternoon & Wed morning: NN part II, Tensorflow & Keras\n",
    "* Wed afternoon: exam\n",
    "\n",
    "***"
   ]
  },
  {
   "cell_type": "markdown",
   "metadata": {
    "collapsed": true
   },
   "source": [
    "## References\n",
    "Extremely active field in recent years, many books, online courses, youtube videos, ...\n",
    "\n",
    "### Books\n",
    "*  **[Python Data Science Handbook](http://shop.oreilly.com/product/0636920034919.do)** by Jake VanderPlas. A substantial part of this course is based on this book. Broad overview on the subject, \n",
    "covers Python packages *numpy, matplotlib, pandas and scikit-learn*.  \n",
    "A big plus is that all material presented in the book is readily available as Jupyter notebooks on **[github](https://github.com/jakevdp/PythonDataScienceHandbook)** \n",
    "  * Just download with git to have it available:  \n",
    "    `git clone https://github.com/jakevdp/PythonDataScienceHandbook`\n",
    "*  **[Data science from Scratch](http://shop.oreilly.com/product/0636920033400.do)** by Joel Grus.  \n",
    "  This book does go into details how to program machine learning models in Python. \n",
    "*  **[Introduction to Machine Learning with Python](http://shop.oreilly.com/product/0636920030515.do)** by Sarah Guido, Andreas Müller. Focus on ML with *scikit-learn*. More detailed discussion of Learning models.\n",
    "Also provides repository with example-notebooks.\n",
    "* **[Python for Data Analysis](http://shop.oreilly.com/product/0636920023784.do)** by Wes McKinney, Book about Pandas from Pandas inventor\n",
    "* **[Python Machine Learning](https://www.packtpub.com/big-data-and-business-intelligence/python-machine-learning-second-edition)** by S. Raschka, V. Mirjalili, Detailed, more advanced Book on ML with Python, all examples as notebooks. \n",
    "\n",
    "### Theoretical background and advance material\n",
    "*  **Pattern Recognition and Machine Learning** by C.M. Bishop.\n",
    "*  **The Elements of Statistical Learning** by T. Hastie et al.\n",
    "*  **[Deep learning](http://www.deeplearningbook.org/)**, Goodfellow et al.\n",
    "\n",
    "### Online info\n",
    "* **[Python 3.7 documentation](https://docs.python.org/3.7/)**\n",
    "* **[SciPy Homepage](http://www.scipy.org/)**\n",
    "* **[SciPy Lecture Notes](http://www.scipy-lectures.org/index.html)** Nice tutorial for Scientific Python - from basic to advanced \n",
    "* **[Kaggle](https://www.kaggle.com/)** is a fantastic source for information on data science\n",
    "  * provides tutorials, example datasets, challenges, ...\n",
    "  * from basic introduction to highly advanced stuff\n",
    "\n",
    "* **https://github.com/terryum/awesome-deep-learning-papers** many more links to recent paper, books, videos, blogs, ...\n",
    "\n",
    "Further references see Course **[Software Handwerkszeug](http://www-static.etp.physik.uni-muenchen.de/kurs/Computing/sw/node5.html)**\n",
    "\n",
    "***\n"
   ]
  },
  {
   "cell_type": "markdown",
   "metadata": {
    "collapsed": true
   },
   "source": [
    "## Python setup \n",
    "\n",
    "We use a special Python environment on the CIP cluster which needs to be setup explicitly by executing in your Shell:   \n",
    "```\n",
    "module load anaconda3/2019.07\n",
    "```\n",
    "\n",
    "* either this is executed in each shell before starting.\n",
    "* or you include the above line in your startup-script `$HOME/.bashrc`\n",
    "\n",
    "**In addition for the Neural Network notebook**  \n",
    "you have to specify\n",
    "```\n",
    "export KERAS_BACKEND=tensorflow\n",
    "```\n",
    "**before** starting `jupyter`\n",
    "\n",
    "## Private installation\n",
    "It should be rather straightforward to install the packages on your own system/laptop.\n",
    "\n",
    "The installation is based on the **[Anaconda](https://www.anaconda.com/download)** and **[conda](https://conda.io/docs/user-guide/install/index.html)** tools, which provide scientific and machine learning python packages for many architectures \n",
    "*(Linux, WIndows, Mac)*.\n",
    "\n",
    "Follow the instructions on [Anaconda](https://www.anaconda.com/download) to get the anaconda base installation for your system.\n",
    "\n",
    "In order to get the Python ML packages used for this course the following packages should then be installed (with conda):\n",
    "```\n",
    "conda install numpy pandas scikit-learn matplotlib \\\n",
    "       seaborn jupyter keras\n",
    "```\n"
   ]
  },
  {
   "cell_type": "code",
   "execution_count": null,
   "metadata": {
    "collapsed": true
   },
   "outputs": [],
   "source": []
  }
 ],
 "metadata": {
  "anaconda-cloud": {},
  "kernelspec": {
   "display_name": "Python 3",
   "language": "python",
   "name": "python3"
  },
  "language_info": {
   "codemirror_mode": {
    "name": "ipython",
    "version": 3
   },
   "file_extension": ".py",
   "mimetype": "text/x-python",
   "name": "python",
   "nbconvert_exporter": "python",
   "pygments_lexer": "ipython3",
   "version": "3.7.3"
  },
  "toc": {
   "base_numbering": 1,
   "nav_menu": {},
   "number_sections": true,
   "sideBar": true,
   "skip_h1_title": false,
   "title_cell": "Table of Contents",
   "title_sidebar": "Contents",
   "toc_cell": true,
   "toc_position": {},
   "toc_section_display": true,
   "toc_window_display": false
  }
 },
 "nbformat": 4,
 "nbformat_minor": 1
}
