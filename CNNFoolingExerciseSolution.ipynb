{
 "cells": [
  {
   "cell_type": "markdown",
   "metadata": {},
   "source": [
    "Neural networks can sometimes be easily fooled. Try to create a random-looking image that makes the NN from [CNNIntro.ipynb](CNNIntro.ipynb) think that it sees a cat. \n",
    "\n",
    "(You need to run that notebook before to get the model that we load (`load_model`) below!)"
   ]
  },
  {
   "cell_type": "code",
   "execution_count": null,
   "metadata": {},
   "outputs": [],
   "source": [
    "from tensorflow import keras\n",
    "import tensorflow as tf\n",
    "import numpy as np\n",
    "import matplotlib.pyplot as plt"
   ]
  },
  {
   "cell_type": "code",
   "execution_count": null,
   "metadata": {},
   "outputs": [],
   "source": [
    "labels = [\"airplane\", \"automobile\", \"bird\", \"cat\", \"deer\", \"dog\", \"frog\", \"horse\", \"ship\", \"truck\"]"
   ]
  },
  {
   "cell_type": "code",
   "execution_count": null,
   "metadata": {},
   "outputs": [],
   "source": [
    "model = keras.models.load_model(\"CNNIntro_model.h5\")"
   ]
  },
  {
   "cell_type": "markdown",
   "metadata": {},
   "source": [
    "Start with this random image:"
   ]
  },
  {
   "cell_type": "code",
   "execution_count": null,
   "metadata": {},
   "outputs": [],
   "source": [
    "rnd_img = np.random.rand(1, 32, 32, 3)"
   ]
  },
  {
   "cell_type": "code",
   "execution_count": null,
   "metadata": {},
   "outputs": [],
   "source": [
    "plt.imshow(rnd_img[0])"
   ]
  },
  {
   "cell_type": "markdown",
   "metadata": {},
   "source": [
    "What does our model say to this?"
   ]
  },
  {
   "cell_type": "code",
   "execution_count": null,
   "metadata": {},
   "outputs": [],
   "source": [
    "model(rnd_img)"
   ]
  },
  {
   "cell_type": "code",
   "execution_count": null,
   "metadata": {},
   "outputs": [],
   "source": [
    "plt.bar(labels, model(rnd_img)[0])\n",
    "plt.xticks(rotation=90)"
   ]
  },
  {
   "cell_type": "markdown",
   "metadata": {},
   "source": [
    "Let's see if we can modify the image such that the NN thinks this is a cat. So we want to maximise the output for cat:"
   ]
  },
  {
   "cell_type": "code",
   "execution_count": null,
   "metadata": {},
   "outputs": [],
   "source": [
    "def output_for(model, img, label):\n",
    "    return model(img)[:, labels.index(label)]"
   ]
  },
  {
   "cell_type": "code",
   "execution_count": null,
   "metadata": {},
   "outputs": [],
   "source": [
    "output_for(model, rnd_img, \"cat\")"
   ]
  },
  {
   "cell_type": "markdown",
   "metadata": {},
   "source": [
    "By calculating the gradient w.r.t. the input image"
   ]
  },
  {
   "cell_type": "code",
   "execution_count": null,
   "metadata": {},
   "outputs": [],
   "source": [
    "input_img = tf.constant(rnd_img)\n",
    "with tf.GradientTape() as tape:\n",
    "    # calling tape.watch will ensure this also works\n",
    "    # when input_img is a Tensor (tf.constant) instead of a tf.Variable\n",
    "    tape.watch(input_img)\n",
    "    out = output_for(model, input_img, \"cat\")\n",
    "grad_wrt_input = tape.gradient(out, input_img)"
   ]
  },
  {
   "cell_type": "code",
   "execution_count": null,
   "metadata": {},
   "outputs": [],
   "source": [
    "grad_wrt_input.shape"
   ]
  },
  {
   "cell_type": "markdown",
   "metadata": {},
   "source": [
    "Now repeat this for several steps, adding the gradient to the input image until the model predicts a high probability for cat."
   ]
  },
  {
   "cell_type": "code",
   "execution_count": null,
   "metadata": {},
   "outputs": [],
   "source": [
    "def step(input_img, step_size=1.0, label=\"cat\"):\n",
    "    with tf.GradientTape() as tape:\n",
    "        tape.watch(input_img)\n",
    "        out = output_for(model, input_img, label)\n",
    "    grad_wrt_input = tape.gradient(out, input_img)\n",
    "    new_img = input_img + step_size * grad_wrt_input\n",
    "    # set values below 0 to 0 and values above 1 to 1\n",
    "    new_img = tf.clip_by_value(new_img, 0, 1)\n",
    "    return new_img"
   ]
  },
  {
   "cell_type": "code",
   "execution_count": null,
   "metadata": {},
   "outputs": [],
   "source": [
    "def print_status(it, out):\n",
    "    print(f\"{it}: {out:.3f} cat\")\n",
    "\n",
    "tuned_img = tf.constant(rnd_img)\n",
    "for it in range(1000):\n",
    "    tuned_img = step(tuned_img, step_size=1.0)\n",
    "    out = output_for(model, tuned_img, \"cat\").numpy()[0]\n",
    "    if it < 10 or (it % 5) == 0:\n",
    "        print_status(it, out)\n",
    "    if out > 0.99:\n",
    "        break\n",
    "print_status(it, out)"
   ]
  },
  {
   "cell_type": "code",
   "execution_count": null,
   "metadata": {},
   "outputs": [],
   "source": [
    "plt.bar(labels, model(tuned_img)[0])\n",
    "plt.xticks(rotation=90)"
   ]
  },
  {
   "cell_type": "code",
   "execution_count": null,
   "metadata": {},
   "outputs": [],
   "source": [
    "plt.imshow(tuned_img[0])"
   ]
  },
  {
   "cell_type": "markdown",
   "metadata": {},
   "source": [
    "Now we just do the same for all 10 labels that are used for the classification of the image set and compare the different results."
   ]
  },
  {
   "cell_type": "code",
   "execution_count": null,
   "metadata": {},
   "outputs": [],
   "source": [
    "tuned_images = {}\n",
    "for label in labels:\n",
    "    print(f\"Tuning for {label}\")\n",
    "    tuned_img = tf.constant(rnd_img)\n",
    "    for it in range(1000):\n",
    "        tuned_img = step(tuned_img, step_size=1.0, label=label)\n",
    "        out = output_for(model, tuned_img, label=label).numpy()[0]\n",
    "        if out > 0.99:\n",
    "            break\n",
    "    tuned_images[label] = tuned_img"
   ]
  },
  {
   "cell_type": "code",
   "execution_count": null,
   "metadata": {},
   "outputs": [],
   "source": [
    "fig, axs = plt.subplots(nrows=2, ncols=5, figsize=(20,6))\n",
    "for ax, (label, img) in zip(axs.ravel(), tuned_images.items()):\n",
    "    ax.imshow(img[0])\n",
    "    ax.set_title(label)"
   ]
  }
 ],
 "metadata": {
  "kernelspec": {
   "display_name": "Python 3",
   "language": "python",
   "name": "python3"
  },
  "language_info": {
   "codemirror_mode": {
    "name": "ipython",
    "version": 3
   },
   "file_extension": ".py",
   "mimetype": "text/x-python",
   "name": "python",
   "nbconvert_exporter": "python",
   "pygments_lexer": "ipython3",
   "version": "3.7.3"
  }
 },
 "nbformat": 4,
 "nbformat_minor": 2
}