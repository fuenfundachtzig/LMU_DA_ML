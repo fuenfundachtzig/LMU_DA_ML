{
 "cells": [
  {
   "cell_type": "markdown",
   "metadata": {
    "toc": true
   },
   "source": [
    "<h1>Table of Contents<span class=\"tocSkip\"></span></h1>\n",
    "<div class=\"toc\"><ul class=\"toc-item\"><li><span><a href=\"#Exercises-for-Numpy,-Matplotlib-and-Pandas\" data-toc-modified-id=\"Exercises-for-Numpy,-Matplotlib-and-Pandas-1\"><span class=\"toc-item-num\">1&nbsp;&nbsp;</span>Exercises for Numpy, Matplotlib and Pandas</a></span><ul class=\"toc-item\"><li><span><a href=\"#Notebook-examples\" data-toc-modified-id=\"Notebook-examples-1.1\"><span class=\"toc-item-num\">1.1&nbsp;&nbsp;</span>Notebook examples</a></span></li><li><span><a href=\"#Data-analysis-1\" data-toc-modified-id=\"Data-analysis-1-1.2\"><span class=\"toc-item-num\">1.2&nbsp;&nbsp;</span>Data-analysis-1</a></span></li><li><span><a href=\"#Data-analysis-2\" data-toc-modified-id=\"Data-analysis-2-1.3\"><span class=\"toc-item-num\">1.3&nbsp;&nbsp;</span>Data-analysis-2</a></span></li><li><span><a href=\"#Breast-Cancer-Dataset\" data-toc-modified-id=\"Breast-Cancer-Dataset-1.4\"><span class=\"toc-item-num\">1.4&nbsp;&nbsp;</span>Breast Cancer Dataset</a></span></li><li><span><a href=\"#Weather-Data\" data-toc-modified-id=\"Weather-Data-1.5\"><span class=\"toc-item-num\">1.5&nbsp;&nbsp;</span>Weather Data</a></span></li></ul></li></ul></div>"
   ]
  },
  {
   "cell_type": "markdown",
   "metadata": {},
   "source": [
    "## Exercises for Numpy, Matplotlib and Pandas\n",
    "\n",
    "### Notebook examples\n",
    "* Check in detail the examples presented\n",
    "* Test variations (data creation, plot options, ...)\n",
    "\n",
    "### Data-analysis-1\n",
    "The file [rohr1.dat](http://www.etp.physik.uni-muenchen.de/kurs/comp14/uebungen/source/rohr1.dat) contains a list of measurements of wire-positions of drift tubes used in the ATLAS\n",
    "Muon-Chamber Sytem   \n",
    " Read the numbers with:\n",
    " ```Ipython\n",
    "data = numpy.loadtxt('rohr1.dat')\n",
    "```\n",
    "1. Determine mean and standard-deviation *(Hint: numpy-Functions)*\n",
    "\n",
    "1. Fill the values in a histogram and plot it.\n",
    "\n",
    "In a similar way read the (x,y) coordinates of file \n",
    "[rohr2.dat](http://www.etp.physik.uni-muenchen.de/kurs/comp14/uebungen/source/rohr2.dat) using\n",
    "```Ipython\n",
    "x,y = numpy.loadtxt('rohr2.dat',unpack=True)\n",
    "```\n",
    "\n",
    "Determine for both x and y mean and standard-deviation as well as the correlation.\n",
    "\n",
    "Visualize the data:\n",
    "1. 1D histogram of both x and y\n",
    "1. (x,y) point plot\n",
    "1. 2D histogram\n",
    " \n",
    " \n",
    " \n",
    "### Data-analysis-2\n",
    "The file [faithful.csv](https://people.sc.fsu.edu/~jburkardt/data/csv/faithful.csv) contains measurement data of the **Old Faithful Geysir** , i.e. duration of the eruption and time since the last eruption.\n",
    "\n",
    "Download the file ( `wget http://...`) and read the data with numpy:\n",
    "```Ipython\n",
    "data=numpy.loadtxt('faithful.csv',delimiter=',',skiprows=1)\n",
    "```\n",
    "(Why  the options in in loadtxt(...)?)\n",
    "\n",
    "1. Determine again mean and standard-deviation for duration and wait-time\n",
    "1. Fill histograms for both values and plot it. Is it compatible with Gaussian distribution?\n",
    "1. Are there correlations between wait-time and duration or the duration of sub-sequent eruptions?\n",
    "(Make (x,y) plots for both)\n",
    "\n",
    "\n"
   ]
  },
  {
   "cell_type": "markdown",
   "metadata": {
    "collapsed": true
   },
   "source": [
    "### Breast Cancer Dataset\n",
    "A frequently used data set for ML (which we will use later on is a data set for *breast cancer diagnosis*\n",
    "\n",
    "The code below reads it and converts it into pandas dataframe.\n",
    "\n",
    "Extract basic statistic info and plot some features.\n"
   ]
  },
  {
   "cell_type": "code",
   "execution_count": null,
   "metadata": {},
   "outputs": [],
   "source": [
    "# load dataset\n",
    "from sklearn.datasets import load_breast_cancer\n",
    "cancer = load_breast_cancer()\n",
    "import pandas as pd\n",
    "df = pd.DataFrame( cancer.data, columns=cancer.feature_names)\n"
   ]
  },
  {
   "cell_type": "markdown",
   "metadata": {},
   "source": [
    "### Weather Data\n",
    "* Investigate other variables or aggregations, e.g. variance of temperature (TMK), daily sun-shine (SDK), Snow-height (SHK_TAG), Number of days with  snow, ...\n",
    "* 2018 was a rather cold winter and the night of Feb 26, 2018 was reportedly the coldest night of this winter season with -27 degree. Check in the Zugspitze data for yearly minimum temperature. How often has it been colder?\n",
    "* Take data from other weather stations ([DWD Archiv](https://www.dwd.de/DE/leistungen/klimadatendeutschland/klarchivtagmonat.html), i.e. Hohenpeißenberg, Helgoland, ...)\n"
   ]
  },
  {
   "cell_type": "code",
   "execution_count": null,
   "metadata": {},
   "outputs": [],
   "source": []
  }
 ],
 "metadata": {
  "anaconda-cloud": {},
  "kernelspec": {
   "display_name": "Python 3",
   "language": "python",
   "name": "python3"
  },
  "language_info": {
   "codemirror_mode": {
    "name": "ipython",
    "version": 3
   },
   "file_extension": ".py",
   "mimetype": "text/x-python",
   "name": "python",
   "nbconvert_exporter": "python",
   "pygments_lexer": "ipython3",
   "version": "3.7.3"
  },
  "toc": {
   "base_numbering": 1,
   "nav_menu": {},
   "number_sections": true,
   "sideBar": true,
   "skip_h1_title": false,
   "title_cell": "Table of Contents",
   "title_sidebar": "Contents",
   "toc_cell": true,
   "toc_position": {},
   "toc_section_display": true,
   "toc_window_display": false
  }
 },
 "nbformat": 4,
 "nbformat_minor": 1
}
